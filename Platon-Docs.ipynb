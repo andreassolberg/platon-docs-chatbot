{
 "cells": [
  {
   "cell_type": "code",
   "execution_count": 5,
   "id": "dbb81262-f69b-4d8b-83eb-c79eb1eb5400",
   "metadata": {
    "tags": []
   },
   "outputs": [
    {
     "name": "stdout",
     "output_type": "stream",
     "text": [
      "# conda environments:\n",
      "#\n",
      "default               *  /home/studio-lab-user/.conda/envs/default\n",
      "docs-chatbot             /home/studio-lab-user/.conda/envs/docs-chatbot\n",
      "studiolab                /home/studio-lab-user/.conda/envs/studiolab\n",
      "studiolab-safemode       /opt/amazon/sagemaker/safemode-home/.conda/envs/studiolab-safemode\n",
      "base                     /opt/conda\n",
      "\n",
      "\n",
      "Note: you may need to restart the kernel to use updated packages.\n"
     ]
    }
   ],
   "source": [
    "%conda env list\n",
    "#conda activate docs-chatbot"
   ]
  },
  {
   "cell_type": "code",
   "execution_count": 6,
   "id": "305e93ee-3497-4aed-bc44-bfc66f5430ea",
   "metadata": {
    "collapsed": true,
    "jupyter": {
     "outputs_hidden": true
    },
    "tags": []
   },
   "outputs": [
    {
     "name": "stdout",
     "output_type": "stream",
     "text": [
      "Requirement already satisfied: langchain in /home/studio-lab-user/.conda/envs/default/lib/python3.9/site-packages (0.0.196)\n",
      "Requirement already satisfied: openai in /home/studio-lab-user/.conda/envs/default/lib/python3.9/site-packages (0.27.4)\n",
      "Requirement already satisfied: unstructured in /home/studio-lab-user/.conda/envs/default/lib/python3.9/site-packages (0.7.3)\n",
      "Requirement already satisfied: pdf2image in /home/studio-lab-user/.conda/envs/default/lib/python3.9/site-packages (1.16.3)\n",
      "Requirement already satisfied: pinecone-client in /home/studio-lab-user/.conda/envs/default/lib/python3.9/site-packages (2.2.2)\n",
      "Requirement already satisfied: tiktoken in /home/studio-lab-user/.conda/envs/default/lib/python3.9/site-packages (0.4.0)\n",
      "Requirement already satisfied: dataclasses-json<0.6.0,>=0.5.7 in /home/studio-lab-user/.conda/envs/default/lib/python3.9/site-packages (from langchain) (0.5.7)\n",
      "Requirement already satisfied: numpy<2,>=1 in /home/studio-lab-user/.conda/envs/default/lib/python3.9/site-packages (from langchain) (1.23.5)\n",
      "Requirement already satisfied: tenacity<9.0.0,>=8.1.0 in /home/studio-lab-user/.conda/envs/default/lib/python3.9/site-packages (from langchain) (8.2.2)\n",
      "Requirement already satisfied: aiohttp<4.0.0,>=3.8.3 in /home/studio-lab-user/.conda/envs/default/lib/python3.9/site-packages (from langchain) (3.8.4)\n",
      "Requirement already satisfied: SQLAlchemy<3,>=1.4 in /home/studio-lab-user/.conda/envs/default/lib/python3.9/site-packages (from langchain) (2.0.15)\n",
      "Requirement already satisfied: PyYAML>=5.4.1 in /home/studio-lab-user/.conda/envs/default/lib/python3.9/site-packages (from langchain) (6.0)\n",
      "Requirement already satisfied: numexpr<3.0.0,>=2.8.4 in /home/studio-lab-user/.conda/envs/default/lib/python3.9/site-packages (from langchain) (2.8.4)\n",
      "Requirement already satisfied: langchainplus-sdk>=0.0.7 in /home/studio-lab-user/.conda/envs/default/lib/python3.9/site-packages (from langchain) (0.0.8)\n",
      "Requirement already satisfied: pydantic<2,>=1 in /home/studio-lab-user/.conda/envs/default/lib/python3.9/site-packages (from langchain) (1.10.9)\n",
      "Requirement already satisfied: openapi-schema-pydantic<2.0,>=1.2 in /home/studio-lab-user/.conda/envs/default/lib/python3.9/site-packages (from langchain) (1.2.4)\n",
      "Requirement already satisfied: async-timeout<5.0.0,>=4.0.0 in /home/studio-lab-user/.conda/envs/default/lib/python3.9/site-packages (from langchain) (4.0.2)\n",
      "Requirement already satisfied: requests<3,>=2 in /home/studio-lab-user/.conda/envs/default/lib/python3.9/site-packages (from langchain) (2.28.2)\n",
      "Requirement already satisfied: tqdm in /home/studio-lab-user/.conda/envs/default/lib/python3.9/site-packages (from openai) (4.65.0)\n",
      "Requirement already satisfied: openpyxl in /home/studio-lab-user/.conda/envs/default/lib/python3.9/site-packages (from unstructured) (3.1.2)\n",
      "Requirement already satisfied: msg-parser in /home/studio-lab-user/.conda/envs/default/lib/python3.9/site-packages (from unstructured) (1.2.0)\n",
      "Requirement already satisfied: tabulate in /home/studio-lab-user/.conda/envs/default/lib/python3.9/site-packages (from unstructured) (0.9.0)\n",
      "Requirement already satisfied: argilla in /home/studio-lab-user/.conda/envs/default/lib/python3.9/site-packages (from unstructured) (1.9.0)\n",
      "Requirement already satisfied: lxml in /home/studio-lab-user/.conda/envs/default/lib/python3.9/site-packages (from unstructured) (4.9.2)\n",
      "Requirement already satisfied: chardet in /home/studio-lab-user/.conda/envs/default/lib/python3.9/site-packages (from unstructured) (5.1.0)\n",
      "Requirement already satisfied: python-docx in /home/studio-lab-user/.conda/envs/default/lib/python3.9/site-packages (from unstructured) (0.8.11)\n",
      "Requirement already satisfied: pillow in /home/studio-lab-user/.conda/envs/default/lib/python3.9/site-packages (from unstructured) (9.5.0)\n",
      "Requirement already satisfied: nltk in /home/studio-lab-user/.conda/envs/default/lib/python3.9/site-packages (from unstructured) (3.8.1)\n",
      "Requirement already satisfied: pandas in /home/studio-lab-user/.conda/envs/default/lib/python3.9/site-packages (from unstructured) (1.5.3)\n",
      "Requirement already satisfied: pypandoc in /home/studio-lab-user/.conda/envs/default/lib/python3.9/site-packages (from unstructured) (1.11)\n",
      "Requirement already satisfied: python-magic in /home/studio-lab-user/.conda/envs/default/lib/python3.9/site-packages (from unstructured) (0.4.27)\n",
      "Requirement already satisfied: markdown in /home/studio-lab-user/.conda/envs/default/lib/python3.9/site-packages (from unstructured) (3.4.3)\n",
      "Requirement already satisfied: python-pptx in /home/studio-lab-user/.conda/envs/default/lib/python3.9/site-packages (from unstructured) (0.6.21)\n",
      "Requirement already satisfied: xlrd in /home/studio-lab-user/.conda/envs/default/lib/python3.9/site-packages (from unstructured) (2.0.1)\n",
      "Requirement already satisfied: pdfminer.six in /home/studio-lab-user/.conda/envs/default/lib/python3.9/site-packages (from unstructured) (20221105)\n",
      "Requirement already satisfied: python-dateutil>=2.5.3 in /home/studio-lab-user/.conda/envs/default/lib/python3.9/site-packages (from pinecone-client) (2.8.2)\n",
      "Requirement already satisfied: typing-extensions>=3.7.4 in /home/studio-lab-user/.conda/envs/default/lib/python3.9/site-packages (from pinecone-client) (4.4.0)\n",
      "Requirement already satisfied: urllib3>=1.21.1 in /home/studio-lab-user/.conda/envs/default/lib/python3.9/site-packages (from pinecone-client) (1.26.15)\n",
      "Requirement already satisfied: loguru>=0.5.0 in /home/studio-lab-user/.conda/envs/default/lib/python3.9/site-packages (from pinecone-client) (0.7.0)\n",
      "Requirement already satisfied: dnspython>=2.0.0 in /home/studio-lab-user/.conda/envs/default/lib/python3.9/site-packages (from pinecone-client) (2.3.0)\n",
      "Requirement already satisfied: regex>=2022.1.18 in /home/studio-lab-user/.conda/envs/default/lib/python3.9/site-packages (from tiktoken) (2023.5.5)\n",
      "Requirement already satisfied: aiosignal>=1.1.2 in /home/studio-lab-user/.conda/envs/default/lib/python3.9/site-packages (from aiohttp<4.0.0,>=3.8.3->langchain) (1.3.1)\n",
      "Requirement already satisfied: yarl<2.0,>=1.0 in /home/studio-lab-user/.conda/envs/default/lib/python3.9/site-packages (from aiohttp<4.0.0,>=3.8.3->langchain) (1.8.2)\n",
      "Requirement already satisfied: attrs>=17.3.0 in /home/studio-lab-user/.conda/envs/default/lib/python3.9/site-packages (from aiohttp<4.0.0,>=3.8.3->langchain) (22.1.0)\n",
      "Requirement already satisfied: frozenlist>=1.1.1 in /home/studio-lab-user/.conda/envs/default/lib/python3.9/site-packages (from aiohttp<4.0.0,>=3.8.3->langchain) (1.3.3)\n",
      "Requirement already satisfied: multidict<7.0,>=4.5 in /home/studio-lab-user/.conda/envs/default/lib/python3.9/site-packages (from aiohttp<4.0.0,>=3.8.3->langchain) (6.0.4)\n",
      "Requirement already satisfied: charset-normalizer<4.0,>=2.0 in /home/studio-lab-user/.conda/envs/default/lib/python3.9/site-packages (from aiohttp<4.0.0,>=3.8.3->langchain) (3.1.0)\n",
      "Requirement already satisfied: marshmallow-enum<2.0.0,>=1.5.1 in /home/studio-lab-user/.conda/envs/default/lib/python3.9/site-packages (from dataclasses-json<0.6.0,>=0.5.7->langchain) (1.5.1)\n",
      "Requirement already satisfied: marshmallow<4.0.0,>=3.3.0 in /home/studio-lab-user/.conda/envs/default/lib/python3.9/site-packages (from dataclasses-json<0.6.0,>=0.5.7->langchain) (3.19.0)\n",
      "Requirement already satisfied: typing-inspect>=0.4.0 in /home/studio-lab-user/.conda/envs/default/lib/python3.9/site-packages (from dataclasses-json<0.6.0,>=0.5.7->langchain) (0.9.0)\n",
      "Requirement already satisfied: packaging>=17.0 in /home/studio-lab-user/.conda/envs/default/lib/python3.9/site-packages (from marshmallow<4.0.0,>=3.3.0->dataclasses-json<0.6.0,>=0.5.7->langchain) (21.3)\n",
      "Requirement already satisfied: pyparsing!=3.0.5,>=2.0.2 in /home/studio-lab-user/.conda/envs/default/lib/python3.9/site-packages (from packaging>=17.0->marshmallow<4.0.0,>=3.3.0->dataclasses-json<0.6.0,>=0.5.7->langchain) (3.0.9)\n",
      "Requirement already satisfied: six>=1.5 in /home/studio-lab-user/.conda/envs/default/lib/python3.9/site-packages (from python-dateutil>=2.5.3->pinecone-client) (1.16.0)\n",
      "Requirement already satisfied: certifi>=2017.4.17 in /home/studio-lab-user/.conda/envs/default/lib/python3.9/site-packages (from requests<3,>=2->langchain) (2022.12.7)\n",
      "Requirement already satisfied: idna<4,>=2.5 in /home/studio-lab-user/.conda/envs/default/lib/python3.9/site-packages (from requests<3,>=2->langchain) (3.4)\n",
      "Requirement already satisfied: greenlet!=0.4.17 in /home/studio-lab-user/.conda/envs/default/lib/python3.9/site-packages (from SQLAlchemy<3,>=1.4->langchain) (2.0.2)\n",
      "Requirement already satisfied: mypy-extensions>=0.3.0 in /home/studio-lab-user/.conda/envs/default/lib/python3.9/site-packages (from typing-inspect>=0.4.0->dataclasses-json<0.6.0,>=0.5.7->langchain) (1.0.0)\n",
      "Requirement already satisfied: rich<=13.0.1 in /home/studio-lab-user/.conda/envs/default/lib/python3.9/site-packages (from argilla->unstructured) (13.0.1)\n",
      "Requirement already satisfied: deprecated~=1.2.0 in /home/studio-lab-user/.conda/envs/default/lib/python3.9/site-packages (from argilla->unstructured) (1.2.14)\n",
      "Requirement already satisfied: monotonic in /home/studio-lab-user/.conda/envs/default/lib/python3.9/site-packages (from argilla->unstructured) (1.6)\n",
      "Requirement already satisfied: typer<1.0.0,>=0.6.0 in /home/studio-lab-user/.conda/envs/default/lib/python3.9/site-packages (from argilla->unstructured) (0.9.0)\n",
      "Requirement already satisfied: wrapt<1.15,>=1.13 in /home/studio-lab-user/.conda/envs/default/lib/python3.9/site-packages (from argilla->unstructured) (1.14.1)\n",
      "Requirement already satisfied: backoff in /home/studio-lab-user/.conda/envs/default/lib/python3.9/site-packages (from argilla->unstructured) (2.2.1)\n",
      "Requirement already satisfied: httpx<0.24,>=0.15 in /home/studio-lab-user/.conda/envs/default/lib/python3.9/site-packages (from argilla->unstructured) (0.23.3)\n",
      "Requirement already satisfied: httpcore<0.17.0,>=0.15.0 in /home/studio-lab-user/.conda/envs/default/lib/python3.9/site-packages (from httpx<0.24,>=0.15->argilla->unstructured) (0.16.3)\n",
      "Requirement already satisfied: sniffio in /home/studio-lab-user/.conda/envs/default/lib/python3.9/site-packages (from httpx<0.24,>=0.15->argilla->unstructured) (1.3.0)\n",
      "Requirement already satisfied: rfc3986[idna2008]<2,>=1.3 in /home/studio-lab-user/.conda/envs/default/lib/python3.9/site-packages (from httpx<0.24,>=0.15->argilla->unstructured) (1.5.0)\n",
      "Requirement already satisfied: anyio<5.0,>=3.0 in /home/studio-lab-user/.conda/envs/default/lib/python3.9/site-packages (from httpcore<0.17.0,>=0.15.0->httpx<0.24,>=0.15->argilla->unstructured) (3.6.2)\n",
      "Requirement already satisfied: h11<0.15,>=0.13 in /home/studio-lab-user/.conda/envs/default/lib/python3.9/site-packages (from httpcore<0.17.0,>=0.15.0->httpx<0.24,>=0.15->argilla->unstructured) (0.14.0)\n",
      "Requirement already satisfied: pytz>=2020.1 in /home/studio-lab-user/.conda/envs/default/lib/python3.9/site-packages (from pandas->unstructured) (2023.3)\n",
      "Requirement already satisfied: pygments<3.0.0,>=2.6.0 in /home/studio-lab-user/.conda/envs/default/lib/python3.9/site-packages (from rich<=13.0.1->argilla->unstructured) (2.13.0)\n",
      "Requirement already satisfied: commonmark<0.10.0,>=0.9.0 in /home/studio-lab-user/.conda/envs/default/lib/python3.9/site-packages (from rich<=13.0.1->argilla->unstructured) (0.9.1)\n",
      "Requirement already satisfied: click<9.0.0,>=7.1.1 in /home/studio-lab-user/.conda/envs/default/lib/python3.9/site-packages (from typer<1.0.0,>=0.6.0->argilla->unstructured) (8.1.3)\n",
      "Requirement already satisfied: importlib-metadata>=4.4 in /home/studio-lab-user/.conda/envs/default/lib/python3.9/site-packages (from markdown->unstructured) (5.0.0)\n",
      "Requirement already satisfied: zipp>=0.5 in /home/studio-lab-user/.conda/envs/default/lib/python3.9/site-packages (from importlib-metadata>=4.4->markdown->unstructured) (3.10.0)\n",
      "Requirement already satisfied: olefile>=0.46 in /home/studio-lab-user/.conda/envs/default/lib/python3.9/site-packages (from msg-parser->unstructured) (0.46)\n",
      "Requirement already satisfied: joblib in /home/studio-lab-user/.conda/envs/default/lib/python3.9/site-packages (from nltk->unstructured) (1.2.0)\n",
      "Requirement already satisfied: et-xmlfile in /home/studio-lab-user/.conda/envs/default/lib/python3.9/site-packages (from openpyxl->unstructured) (1.1.0)\n",
      "Requirement already satisfied: cryptography>=36.0.0 in /home/studio-lab-user/.conda/envs/default/lib/python3.9/site-packages (from pdfminer.six->unstructured) (41.0.1)\n",
      "Requirement already satisfied: cffi>=1.12 in /home/studio-lab-user/.conda/envs/default/lib/python3.9/site-packages (from cryptography>=36.0.0->pdfminer.six->unstructured) (1.15.1)\n",
      "Requirement already satisfied: pycparser in /home/studio-lab-user/.conda/envs/default/lib/python3.9/site-packages (from cffi>=1.12->cryptography>=36.0.0->pdfminer.six->unstructured) (2.21)\n",
      "Requirement already satisfied: XlsxWriter>=0.5.7 in /home/studio-lab-user/.conda/envs/default/lib/python3.9/site-packages (from python-pptx->unstructured) (3.1.2)\n",
      "Note: you may need to restart the kernel to use updated packages.\n"
     ]
    }
   ],
   "source": [
    "%pip install langchain openai unstructured pdf2image pinecone-client tiktoken"
   ]
  },
  {
   "cell_type": "markdown",
   "id": "7745e3a1-98ce-491a-b53e-bd04d111c489",
   "metadata": {},
   "source": [
    "## Imports and initial setup"
   ]
  },
  {
   "cell_type": "code",
   "execution_count": 23,
   "id": "c7520db6-d800-4d1a-a623-98ee399891d1",
   "metadata": {
    "tags": []
   },
   "outputs": [],
   "source": [
    "import os\n",
    "from dotenv import load_dotenv, find_dotenv\n",
    "\n",
    "# Langchain and openai\n",
    "from langchain.llms import OpenAI\n",
    "from langchain.prompts import PromptTemplate\n",
    "from langchain.chains import LLMChain\n",
    "from langchain.text_splitter import RecursiveCharacterTextSplitter\n",
    "from langchain.document_loaders import DirectoryLoader"
   ]
  },
  {
   "cell_type": "code",
   "execution_count": 24,
   "id": "58819613-8604-4f74-803e-6087a3542535",
   "metadata": {
    "tags": []
   },
   "outputs": [
    {
     "data": {
      "text/plain": [
       "True"
      ]
     },
     "execution_count": 24,
     "metadata": {},
     "output_type": "execute_result"
    }
   ],
   "source": [
    "# Find and load the .env file\n",
    "dotenv_path = find_dotenv()\n",
    "load_dotenv(dotenv_path)"
   ]
  },
  {
   "cell_type": "markdown",
   "id": "59ee9097-b696-4a94-a2d7-d403dc4cb552",
   "metadata": {},
   "source": [
    "## Load data"
   ]
  },
  {
   "cell_type": "code",
   "execution_count": 25,
   "id": "fcd372a4-2697-42ee-abf9-b6d9edbd7059",
   "metadata": {
    "tags": []
   },
   "outputs": [
    {
     "name": "stderr",
     "output_type": "stream",
     "text": [
      "100%|██████████| 75/75 [00:04<00:00, 15.82it/s]"
     ]
    },
    {
     "name": "stdout",
     "output_type": "stream",
     "text": [
      "You have 75 document(s) in your data\n",
      "There are 310 characters in your document\n"
     ]
    },
    {
     "name": "stderr",
     "output_type": "stream",
     "text": [
      "\n"
     ]
    }
   ],
   "source": [
    "loader = DirectoryLoader('docs/', glob=\"**/*.md\", show_progress=True, use_multithreading=True)\n",
    "docs = loader.load()\n",
    "\n",
    "\n",
    "# Note: If you're using PyPDFLoader then it will split by page for you already\n",
    "print (f'You have {len(docs)} document(s) in your data')\n",
    "print (f'There are {len(docs[30].page_content)} characters in your document')"
   ]
  },
  {
   "cell_type": "code",
   "execution_count": 37,
   "id": "4a04a434-6ab8-42bf-9a5e-a9f148ae0e2d",
   "metadata": {},
   "outputs": [],
   "source": [
    "# Note: If you're using PyPDFLoader then we'll be splitting for the 2nd time.\n",
    "# This is optional, test out on your own data.\n",
    "\n",
    "text_splitter = RecursiveCharacterTextSplitter(chunk_size=2000, chunk_overlap=0)\n",
    "text_chunks = text_splitter.split_documents(docs)"
   ]
  },
  {
   "cell_type": "code",
   "execution_count": 38,
   "id": "ef8d0419-5997-49df-8af6-628a8d3dff91",
   "metadata": {},
   "outputs": [
    {
     "name": "stdout",
     "output_type": "stream",
     "text": [
      "Now you have 131 documents\n"
     ]
    }
   ],
   "source": [
    "print (f'Now you have {len(text_chunks)} documents')"
   ]
  },
  {
   "cell_type": "code",
   "execution_count": 43,
   "id": "6db5ea5c-7393-473f-8b10-8288a603293b",
   "metadata": {},
   "outputs": [],
   "source": [
    "# create an empty list to store the metadata for each document\n",
    "metadata_list = []\n",
    "\n",
    "# loop through the text_chunks and set the metadata for each document\n",
    "for i, chunk in enumerate(text_chunks):\n",
    "    # get the filename of the source text file from the metadata of the first page in the chunk\n",
    "    filename = chunk.metadata['source'].split(os.sep)[-1].split('.')[0]\n",
    "    # set the sources metadata key to the filename\n",
    "    metadata = {\"source\": filename, \"path\": chunk.metadata['source']}\n",
    "    # add the metadata dictionary to the metadata_list\n",
    "    metadata_list.append(metadata)"
   ]
  },
  {
   "cell_type": "markdown",
   "id": "df7e0bd9-74e9-4e0c-adc1-5cf37598e5a9",
   "metadata": {},
   "source": [
    "## Create embeddings of your documents to get ready for semantic search"
   ]
  },
  {
   "cell_type": "code",
   "execution_count": 39,
   "id": "b95fa1c3-f774-44ca-aedc-866bf1eae8a7",
   "metadata": {},
   "outputs": [],
   "source": [
    "from langchain.vectorstores import Chroma, Pinecone\n",
    "from langchain.embeddings.openai import OpenAIEmbeddings\n",
    "import pinecone"
   ]
  },
  {
   "cell_type": "code",
   "execution_count": 40,
   "id": "7dd25169-00b4-422c-9ead-ecab49272842",
   "metadata": {},
   "outputs": [],
   "source": [
    "embeddings = OpenAIEmbeddings(openai_api_key=os.environ.get(\"OPENAI_APIKEY\"))"
   ]
  },
  {
   "cell_type": "code",
   "execution_count": 20,
   "id": "95df6d5e-18e5-4105-a151-5ea875824e11",
   "metadata": {},
   "outputs": [],
   "source": [
    "# initialize pinecone\n",
    "pinecone.init(\n",
    "    api_key=os.environ.get(\"PINECONE_API_KEY\"),  # find at app.pinecone.io\n",
    "    environment=os.environ.get(\"PINECONE_API_ENV\")  # next to api key in console\n",
    ")\n",
    "index_name = \"platon2\" # put in the name of your pinecone index here"
   ]
  },
  {
   "cell_type": "code",
   "execution_count": 48,
   "id": "e6ed5287-ff45-46c1-9af6-35f8db0cf027",
   "metadata": {},
   "outputs": [],
   "source": [
    "reIndex = False\n",
    "\n",
    "if reIndex:\n",
    "    docsearch = Pinecone.from_texts([t.page_content for t in text_chunks], embeddings, metadatas=metadata_list, index_name=index_name)\n",
    "else:\n",
    "    docsearch = Pinecone.from_existing_index(index_name=index_name, embedding=embeddings)"
   ]
  },
  {
   "cell_type": "code",
   "execution_count": 51,
   "id": "d48e8592-0102-499d-b74d-c6c376fcee59",
   "metadata": {
    "tags": []
   },
   "outputs": [
    {
     "name": "stdout",
     "output_type": "stream",
     "text": [
      "Felles logging\n",
      "\n",
      "Humio is a Log Analytics plattform delivered by Cyber Security Center for Research and Education (eduCSC).\n",
      "\n",
      "Support Requests\n",
      "\n",
      "Send an email to kontakt@sikt.no for any request regarding users, repositories, views, etc in Humio.\n",
      "\n",
      "Web Console\n",
      "\n",
      "Humio Web Console\n",
      "\n",
      "Our Humio instance is available for all Sikt employees that need to analyse logs for their servies. It uses Feide for login. A user must be created for you before you can log in.\n",
      "\n",
      "Humio Documentation\n",
      "\n",
      "Some of the main concepts in Humio is described in this section. See the official docs for more in-depth information.\n",
      "\n",
      "Repository\n",
      "\n",
      "A Repository is a way of organizing data storage in Humio. Within Humio, each repository has its own set of users, dashboards, saved queries, and parsers.\n",
      "\n",
      "The Sandbox Repository\n",
      "\n",
      "In Humio there is by default a Sandbox repository for testing data, executing queries, and testing new features of the Humio software.\n",
      "\n",
      "Views\n",
      "\n",
      "There may be a situation in which you want a subset of a repository. This is basically a view. You might want it as a security measure, limiting some users to certain data. It could also be a way to focus on relevant areas of the data.\n",
      "\n",
      "Ingest Token\n",
      "\n",
      "Ingest Tokens are used for authorization when sending data to Humio. Ingest token have limited API access and cannot e.g. be used to read repository settings or execute queries.\n",
      "\n",
      "A repository can have multiple ingest tokens, each with their own parser assigned.\n",
      "\n",
      "Configuring log Shipping\n",
      "\n",
      "Puppet managed servers\n",
      "\n",
      "For Puppet managed servers we have a module (pmodule_filebeat) that is configured to ship all system logs to Humio by default. This is sent to a repository which Platon and internal security have access.\n",
      "\n",
      "pmodule_filebeat can also be used to ship other logs as it can be set-up multiple times for a server with different configs.\n",
      "\n",
      "A view can be created here for those teams that would like access to the logs for their servers.\n",
      "\n",
      "Kubernetes\n"
     ]
    }
   ],
   "source": [
    "query = \"Hvordan sette opp logging til humio fra paas?\"\n",
    "pages = docsearch.similarity_search(query)\n",
    "\n",
    "# Here's an example of the first document that was returned\n",
    "print(pages[0].page_content)"
   ]
  },
  {
   "cell_type": "markdown",
   "id": "209ae3e8-7a7a-4e03-b08c-01cad24a4e1f",
   "metadata": {},
   "source": [
    "## Query Platon documentation"
   ]
  },
  {
   "cell_type": "code",
   "execution_count": 52,
   "id": "ad543786-dba4-4320-8af7-970a880b0fe2",
   "metadata": {},
   "outputs": [],
   "source": [
    "llm = OpenAI(openai_api_key=os.environ.get(\"OPENAI_APIKEY\"))"
   ]
  },
  {
   "cell_type": "code",
   "execution_count": 53,
   "id": "c9bfc5de-f638-4de2-aa75-65ad3d117e29",
   "metadata": {},
   "outputs": [],
   "source": [
    "from langchain.llms import OpenAI\n",
    "from langchain.chains.question_answering import load_qa_chain"
   ]
  },
  {
   "cell_type": "code",
   "execution_count": 54,
   "id": "70c2f56f-98d9-49a7-99df-7d3390e5a561",
   "metadata": {},
   "outputs": [],
   "source": [
    "chain = load_qa_chain(llm, chain_type=\"stuff\")"
   ]
  },
  {
   "cell_type": "code",
   "execution_count": 55,
   "id": "bcc03b9c-83eb-4e8a-99a0-3e7cb867f6d4",
   "metadata": {},
   "outputs": [],
   "source": [
    "def queryPlaton(query):\n",
    "    doc_context = docsearch.similarity_search(query)\n",
    "    return chain.run(input_documents=doc_context, question=query)"
   ]
  },
  {
   "cell_type": "code",
   "execution_count": 56,
   "id": "9930825a-9ad1-4442-a6d3-985617767ccc",
   "metadata": {},
   "outputs": [
    {
     "data": {
      "text/plain": [
       "' Ja, Platon tilbyr flere sikkerhetstjenester, inkludert container scanning i Gitlab CI pipeline, kartlegging av avhengigheter (Dependency Track) og lagring av hemmeligheter og nøkler på en sikker og pålitelig måte med Platons Vault cluster.'"
      ]
     },
     "execution_count": 56,
     "metadata": {},
     "output_type": "execute_result"
    }
   ],
   "source": [
    "r = queryPlaton(\"Tilbyr Platon noen sikkerhetstjenester?\")\n",
    "r"
   ]
  },
  {
   "cell_type": "code",
   "execution_count": 57,
   "id": "62562469-d054-4034-a2c0-bdb560794de3",
   "metadata": {},
   "outputs": [
    {
     "data": {
      "application/vnd.jupyter.widget-view+json": {
       "model_id": "1389c35ae45145698ca17518df1b11d5",
       "version_major": 2,
       "version_minor": 0
      },
      "text/plain": [
       "interactive(children=(Textarea(value='Hva tilbyr Platon av backupløsninger?', description='Spørsmål:', layout=…"
      ]
     },
     "metadata": {},
     "output_type": "display_data"
    },
    {
     "data": {
      "text/plain": [
       "<function __main__.chatbot_interactive(user_input)>"
      ]
     },
     "execution_count": 57,
     "metadata": {},
     "output_type": "execute_result"
    }
   ],
   "source": [
    "from ipywidgets import interact, interactive, fixed, interact_manual\n",
    "import ipywidgets as widgets\n",
    "\n",
    "def chatbot_interactive(user_input):\n",
    "    response = queryPlaton(user_input)\n",
    "    #response = user_input\n",
    "    out = widgets.HTML(\n",
    "        value='<div style=\"padding: 2em; margin: 3em 1em; border: 1px solid #aaa;\">' + response + '</textarea>'\n",
    "    )\n",
    "    return out\n",
    "\n",
    "interact_manual(chatbot_interactive, \n",
    "                user_input=widgets.Textarea(value='Hva tilbyr Platon av backupløsninger?', rows=5, description='Spørsmål:', \n",
    "                                            layout=widgets.Layout(width='90%')),\n",
    "                manual_name=\"YAY\")"
   ]
  },
  {
   "cell_type": "markdown",
   "id": "51b5f4b7-fe38-4167-a70d-1b7fe8cfd921",
   "metadata": {
    "tags": []
   },
   "source": [
    "## Misc"
   ]
  },
  {
   "cell_type": "code",
   "execution_count": null,
   "id": "c0b3f3fe-0fa6-4234-825e-d350f87ade86",
   "metadata": {},
   "outputs": [],
   "source": []
  },
  {
   "cell_type": "code",
   "execution_count": null,
   "id": "617d4b88-c9e6-4860-bbde-d6740b64c669",
   "metadata": {
    "tags": []
   },
   "outputs": [],
   "source": [
    "text = \"What would be a good company name for a company that makes colorful socks?\"\n",
    "#print(llm(text))"
   ]
  },
  {
   "cell_type": "code",
   "execution_count": null,
   "id": "15559a8a-53d9-4303-b04f-4dd95e636506",
   "metadata": {},
   "outputs": [],
   "source": [
    "prompt = PromptTemplate(\n",
    "    input_variables=[\"product\"],\n",
    "    template=\"What is a good name for a company that makes {product}?\",\n",
    ")"
   ]
  },
  {
   "cell_type": "code",
   "execution_count": null,
   "id": "9a4a0ae8-a35c-409e-9e98-e6d2f235761e",
   "metadata": {},
   "outputs": [],
   "source": [
    "#print(prompt.format(product=\"colorful socks\"))"
   ]
  },
  {
   "cell_type": "code",
   "execution_count": null,
   "id": "5638d4df-3f9b-452c-8790-4d3b085ef245",
   "metadata": {},
   "outputs": [],
   "source": [
    "chain = LLMChain(llm=llm, prompt=prompt)"
   ]
  },
  {
   "cell_type": "code",
   "execution_count": null,
   "id": "4997c898-a3ff-4ab6-b771-283a58bfe29e",
   "metadata": {},
   "outputs": [],
   "source": [
    "#chain.run(\"colorful socks\")"
   ]
  },
  {
   "cell_type": "markdown",
   "id": "02ec8db7-3bc3-4ae1-a217-1d9538d8f637",
   "metadata": {
    "tags": []
   },
   "source": [
    "## Memory: Add State to Chains and Agents"
   ]
  },
  {
   "cell_type": "code",
   "execution_count": null,
   "id": "3f1bd78c-cae2-42d2-adc2-d1c49ac536e5",
   "metadata": {},
   "outputs": [],
   "source": [
    "from langchain import OpenAI, ConversationChain\n",
    "\n",
    "conversation = ConversationChain(llm=llm, verbose=True)\n",
    "\n",
    "output = conversation.predict(input=\"Can you help me with calculating 2 + 2?\")\n",
    "print(output)"
   ]
  },
  {
   "cell_type": "markdown",
   "id": "61e18511-55e0-49c4-97ab-0540881596a5",
   "metadata": {},
   "source": [
    "## Chat model"
   ]
  },
  {
   "cell_type": "code",
   "execution_count": null,
   "id": "5ffb45be-93af-4dd4-b338-ff9f37b0fabd",
   "metadata": {},
   "outputs": [],
   "source": [
    "from langchain.chat_models import ChatOpenAI\n",
    "from langchain.schema import (\n",
    "    AIMessage,\n",
    "    HumanMessage,\n",
    "    SystemMessage\n",
    ")\n",
    "\n",
    "chat = ChatOpenAI(temperature=0, openai_api_key=os.environ.get(\"OPENAI_APIKEY\"))"
   ]
  },
  {
   "cell_type": "code",
   "execution_count": null,
   "id": "174d2665-d712-4274-a756-38ba9bc4f9c5",
   "metadata": {},
   "outputs": [],
   "source": [
    "chat([HumanMessage(content=\"Translate this sentence from English to French. I love programming.\")])\n",
    "# -> AIMessage(content=\"J'aime programmer.\", additional_kwargs={})"
   ]
  },
  {
   "cell_type": "code",
   "execution_count": null,
   "id": "e9f64834-741c-43aa-b277-6fbec4a8ed17",
   "metadata": {},
   "outputs": [],
   "source": [
    "messages = [\n",
    "    SystemMessage(content=\"You are a helpful assistant that translates English to French.\"),\n",
    "    HumanMessage(content=\"I love programming.\")\n",
    "]\n",
    "chat(messages)\n",
    "# -> AIMessage(content=\"J'aime programmer.\", additional_kwargs={})"
   ]
  },
  {
   "cell_type": "code",
   "execution_count": null,
   "id": "f0a9f44a-f501-4b35-bc15-ba51d7837312",
   "metadata": {},
   "outputs": [],
   "source": [
    "batch_messages = [\n",
    "    [\n",
    "        SystemMessage(content=\"You are a helpful assistant that translates English to French.\"),\n",
    "        HumanMessage(content=\"I love programming.\")\n",
    "    ],\n",
    "    [\n",
    "        SystemMessage(content=\"You are a helpful assistant that translates English to French.\"),\n",
    "        HumanMessage(content=\"I love artificial intelligence.\")\n",
    "    ],\n",
    "]\n",
    "result = chat.generate(batch_messages)\n",
    "result\n",
    "# -> LLMResult(generations=[[ChatGeneration(text=\"J'aime programmer.\", generation_info=None, message=AIMessage(content=\"J'aime programmer.\", additional_kwargs={}))], [ChatGeneration(text=\"J'aime l'intelligence artificielle.\", generation_info=None, message=AIMessage(content=\"J'aime l'intelligence artificielle.\", additional_kwargs={}))]], llm_output={'token_usage': {'prompt_tokens': 57, 'completion_tokens': 20, 'total_tokens': 77}})"
   ]
  },
  {
   "cell_type": "code",
   "execution_count": null,
   "id": "896a0cba-b2a9-436f-9d83-6a9634f58c57",
   "metadata": {},
   "outputs": [],
   "source": []
  }
 ],
 "metadata": {
  "kernelspec": {
   "display_name": "default:Python",
   "language": "python",
   "name": "conda-env-default-py"
  },
  "language_info": {
   "codemirror_mode": {
    "name": "ipython",
    "version": 3
   },
   "file_extension": ".py",
   "mimetype": "text/x-python",
   "name": "python",
   "nbconvert_exporter": "python",
   "pygments_lexer": "ipython3",
   "version": "3.9.13"
  }
 },
 "nbformat": 4,
 "nbformat_minor": 5
}
