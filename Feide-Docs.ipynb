{
 "cells": [
  {
   "cell_type": "code",
   "execution_count": 83,
   "id": "dbb81262-f69b-4d8b-83eb-c79eb1eb5400",
   "metadata": {
    "tags": []
   },
   "outputs": [
    {
     "name": "stdout",
     "output_type": "stream",
     "text": [
      "# conda environments:\n",
      "#\n",
      "default               *  /home/studio-lab-user/.conda/envs/default\n",
      "docs-chatbot             /home/studio-lab-user/.conda/envs/docs-chatbot\n",
      "studiolab                /home/studio-lab-user/.conda/envs/studiolab\n",
      "studiolab-safemode       /opt/amazon/sagemaker/safemode-home/.conda/envs/studiolab-safemode\n",
      "base                     /opt/conda\n",
      "\n",
      "\n",
      "Note: you may need to restart the kernel to use updated packages.\n"
     ]
    }
   ],
   "source": [
    "%conda env list\n",
    "#conda activate docs-chatbot"
   ]
  },
  {
   "cell_type": "code",
   "execution_count": 84,
   "id": "305e93ee-3497-4aed-bc44-bfc66f5430ea",
   "metadata": {
    "tags": []
   },
   "outputs": [
    {
     "name": "stdout",
     "output_type": "stream",
     "text": [
      "Requirement already satisfied: langchain in /home/studio-lab-user/.conda/envs/default/lib/python3.9/site-packages (0.0.196)\n",
      "Requirement already satisfied: openai in /home/studio-lab-user/.conda/envs/default/lib/python3.9/site-packages (0.27.4)\n",
      "Requirement already satisfied: unstructured in /home/studio-lab-user/.conda/envs/default/lib/python3.9/site-packages (0.7.3)\n",
      "Requirement already satisfied: pdf2image in /home/studio-lab-user/.conda/envs/default/lib/python3.9/site-packages (1.16.3)\n",
      "Requirement already satisfied: pinecone-client in /home/studio-lab-user/.conda/envs/default/lib/python3.9/site-packages (2.2.2)\n",
      "Requirement already satisfied: tiktoken in /home/studio-lab-user/.conda/envs/default/lib/python3.9/site-packages (0.4.0)\n",
      "Requirement already satisfied: pypandoc in /home/studio-lab-user/.conda/envs/default/lib/python3.9/site-packages (1.11)\n",
      "Requirement already satisfied: ipywidgets in /home/studio-lab-user/.conda/envs/default/lib/python3.9/site-packages (7.7.2)\n",
      "Requirement already satisfied: numexpr<3.0.0,>=2.8.4 in /home/studio-lab-user/.conda/envs/default/lib/python3.9/site-packages (from langchain) (2.8.4)\n",
      "Requirement already satisfied: numpy<2,>=1 in /home/studio-lab-user/.conda/envs/default/lib/python3.9/site-packages (from langchain) (1.23.5)\n",
      "Requirement already satisfied: requests<3,>=2 in /home/studio-lab-user/.conda/envs/default/lib/python3.9/site-packages (from langchain) (2.28.2)\n",
      "Requirement already satisfied: tenacity<9.0.0,>=8.1.0 in /home/studio-lab-user/.conda/envs/default/lib/python3.9/site-packages (from langchain) (8.2.2)\n",
      "Requirement already satisfied: aiohttp<4.0.0,>=3.8.3 in /home/studio-lab-user/.conda/envs/default/lib/python3.9/site-packages (from langchain) (3.8.4)\n",
      "Requirement already satisfied: PyYAML>=5.4.1 in /home/studio-lab-user/.conda/envs/default/lib/python3.9/site-packages (from langchain) (6.0)\n",
      "Requirement already satisfied: pydantic<2,>=1 in /home/studio-lab-user/.conda/envs/default/lib/python3.9/site-packages (from langchain) (1.10.9)\n",
      "Requirement already satisfied: langchainplus-sdk>=0.0.7 in /home/studio-lab-user/.conda/envs/default/lib/python3.9/site-packages (from langchain) (0.0.8)\n",
      "Requirement already satisfied: dataclasses-json<0.6.0,>=0.5.7 in /home/studio-lab-user/.conda/envs/default/lib/python3.9/site-packages (from langchain) (0.5.7)\n",
      "Requirement already satisfied: openapi-schema-pydantic<2.0,>=1.2 in /home/studio-lab-user/.conda/envs/default/lib/python3.9/site-packages (from langchain) (1.2.4)\n",
      "Requirement already satisfied: async-timeout<5.0.0,>=4.0.0 in /home/studio-lab-user/.conda/envs/default/lib/python3.9/site-packages (from langchain) (4.0.2)\n",
      "Requirement already satisfied: SQLAlchemy<3,>=1.4 in /home/studio-lab-user/.conda/envs/default/lib/python3.9/site-packages (from langchain) (2.0.15)\n",
      "Requirement already satisfied: tqdm in /home/studio-lab-user/.conda/envs/default/lib/python3.9/site-packages (from openai) (4.65.0)\n",
      "Requirement already satisfied: lxml in /home/studio-lab-user/.conda/envs/default/lib/python3.9/site-packages (from unstructured) (4.9.2)\n",
      "Requirement already satisfied: openpyxl in /home/studio-lab-user/.conda/envs/default/lib/python3.9/site-packages (from unstructured) (3.1.2)\n",
      "Requirement already satisfied: pdfminer.six in /home/studio-lab-user/.conda/envs/default/lib/python3.9/site-packages (from unstructured) (20221105)\n",
      "Requirement already satisfied: chardet in /home/studio-lab-user/.conda/envs/default/lib/python3.9/site-packages (from unstructured) (5.1.0)\n",
      "Requirement already satisfied: pandas in /home/studio-lab-user/.conda/envs/default/lib/python3.9/site-packages (from unstructured) (1.5.3)\n",
      "Requirement already satisfied: markdown in /home/studio-lab-user/.conda/envs/default/lib/python3.9/site-packages (from unstructured) (3.4.3)\n",
      "Requirement already satisfied: tabulate in /home/studio-lab-user/.conda/envs/default/lib/python3.9/site-packages (from unstructured) (0.9.0)\n",
      "Requirement already satisfied: xlrd in /home/studio-lab-user/.conda/envs/default/lib/python3.9/site-packages (from unstructured) (2.0.1)\n",
      "Requirement already satisfied: argilla in /home/studio-lab-user/.conda/envs/default/lib/python3.9/site-packages (from unstructured) (1.9.0)\n",
      "Requirement already satisfied: msg-parser in /home/studio-lab-user/.conda/envs/default/lib/python3.9/site-packages (from unstructured) (1.2.0)\n",
      "Requirement already satisfied: nltk in /home/studio-lab-user/.conda/envs/default/lib/python3.9/site-packages (from unstructured) (3.8.1)\n",
      "Requirement already satisfied: python-magic in /home/studio-lab-user/.conda/envs/default/lib/python3.9/site-packages (from unstructured) (0.4.27)\n",
      "Requirement already satisfied: pillow in /home/studio-lab-user/.conda/envs/default/lib/python3.9/site-packages (from unstructured) (9.5.0)\n",
      "Requirement already satisfied: python-pptx in /home/studio-lab-user/.conda/envs/default/lib/python3.9/site-packages (from unstructured) (0.6.21)\n",
      "Requirement already satisfied: python-docx in /home/studio-lab-user/.conda/envs/default/lib/python3.9/site-packages (from unstructured) (0.8.11)\n",
      "Requirement already satisfied: dnspython>=2.0.0 in /home/studio-lab-user/.conda/envs/default/lib/python3.9/site-packages (from pinecone-client) (2.3.0)\n",
      "Requirement already satisfied: urllib3>=1.21.1 in /home/studio-lab-user/.conda/envs/default/lib/python3.9/site-packages (from pinecone-client) (1.26.15)\n",
      "Requirement already satisfied: loguru>=0.5.0 in /home/studio-lab-user/.conda/envs/default/lib/python3.9/site-packages (from pinecone-client) (0.7.0)\n",
      "Requirement already satisfied: python-dateutil>=2.5.3 in /home/studio-lab-user/.conda/envs/default/lib/python3.9/site-packages (from pinecone-client) (2.8.2)\n",
      "Requirement already satisfied: typing-extensions>=3.7.4 in /home/studio-lab-user/.conda/envs/default/lib/python3.9/site-packages (from pinecone-client) (4.4.0)\n",
      "Requirement already satisfied: regex>=2022.1.18 in /home/studio-lab-user/.conda/envs/default/lib/python3.9/site-packages (from tiktoken) (2023.5.5)\n",
      "Requirement already satisfied: widgetsnbextension~=3.6.0 in /home/studio-lab-user/.conda/envs/default/lib/python3.9/site-packages (from ipywidgets) (3.6.1)\n",
      "Requirement already satisfied: ipykernel>=4.5.1 in /home/studio-lab-user/.conda/envs/default/lib/python3.9/site-packages (from ipywidgets) (6.4.2)\n",
      "Requirement already satisfied: traitlets>=4.3.1 in /home/studio-lab-user/.conda/envs/default/lib/python3.9/site-packages (from ipywidgets) (5.5.0)\n",
      "Requirement already satisfied: ipython>=4.0.0 in /home/studio-lab-user/.conda/envs/default/lib/python3.9/site-packages (from ipywidgets) (7.33.0)\n",
      "Requirement already satisfied: ipython-genutils~=0.2.0 in /home/studio-lab-user/.conda/envs/default/lib/python3.9/site-packages (from ipywidgets) (0.2.0)\n",
      "Requirement already satisfied: jupyterlab-widgets<3,>=1.0.0 in /home/studio-lab-user/.conda/envs/default/lib/python3.9/site-packages (from ipywidgets) (1.1.1)\n",
      "Requirement already satisfied: yarl<2.0,>=1.0 in /home/studio-lab-user/.conda/envs/default/lib/python3.9/site-packages (from aiohttp<4.0.0,>=3.8.3->langchain) (1.8.2)\n",
      "Requirement already satisfied: multidict<7.0,>=4.5 in /home/studio-lab-user/.conda/envs/default/lib/python3.9/site-packages (from aiohttp<4.0.0,>=3.8.3->langchain) (6.0.4)\n",
      "Requirement already satisfied: aiosignal>=1.1.2 in /home/studio-lab-user/.conda/envs/default/lib/python3.9/site-packages (from aiohttp<4.0.0,>=3.8.3->langchain) (1.3.1)\n",
      "Requirement already satisfied: attrs>=17.3.0 in /home/studio-lab-user/.conda/envs/default/lib/python3.9/site-packages (from aiohttp<4.0.0,>=3.8.3->langchain) (22.1.0)\n",
      "Requirement already satisfied: frozenlist>=1.1.1 in /home/studio-lab-user/.conda/envs/default/lib/python3.9/site-packages (from aiohttp<4.0.0,>=3.8.3->langchain) (1.3.3)\n",
      "Requirement already satisfied: charset-normalizer<4.0,>=2.0 in /home/studio-lab-user/.conda/envs/default/lib/python3.9/site-packages (from aiohttp<4.0.0,>=3.8.3->langchain) (3.1.0)\n",
      "Requirement already satisfied: typing-inspect>=0.4.0 in /home/studio-lab-user/.conda/envs/default/lib/python3.9/site-packages (from dataclasses-json<0.6.0,>=0.5.7->langchain) (0.9.0)\n",
      "Requirement already satisfied: marshmallow<4.0.0,>=3.3.0 in /home/studio-lab-user/.conda/envs/default/lib/python3.9/site-packages (from dataclasses-json<0.6.0,>=0.5.7->langchain) (3.19.0)\n",
      "Requirement already satisfied: marshmallow-enum<2.0.0,>=1.5.1 in /home/studio-lab-user/.conda/envs/default/lib/python3.9/site-packages (from dataclasses-json<0.6.0,>=0.5.7->langchain) (1.5.1)\n",
      "Requirement already satisfied: debugpy<2.0,>=1.0.0 in /home/studio-lab-user/.conda/envs/default/lib/python3.9/site-packages (from ipykernel>=4.5.1->ipywidgets) (1.6.3)\n",
      "Requirement already satisfied: jupyter-client<8.0 in /home/studio-lab-user/.conda/envs/default/lib/python3.9/site-packages (from ipykernel>=4.5.1->ipywidgets) (7.4.5)\n",
      "Requirement already satisfied: tornado<7.0,>=4.2 in /home/studio-lab-user/.conda/envs/default/lib/python3.9/site-packages (from ipykernel>=4.5.1->ipywidgets) (6.2)\n",
      "Requirement already satisfied: matplotlib-inline<0.2.0,>=0.1.0 in /home/studio-lab-user/.conda/envs/default/lib/python3.9/site-packages (from ipykernel>=4.5.1->ipywidgets) (0.1.6)\n",
      "Requirement already satisfied: setuptools>=18.5 in /home/studio-lab-user/.conda/envs/default/lib/python3.9/site-packages (from ipython>=4.0.0->ipywidgets) (65.5.1)\n",
      "Requirement already satisfied: jedi>=0.16 in /home/studio-lab-user/.conda/envs/default/lib/python3.9/site-packages (from ipython>=4.0.0->ipywidgets) (0.18.1)\n",
      "Requirement already satisfied: pexpect>4.3 in /home/studio-lab-user/.conda/envs/default/lib/python3.9/site-packages (from ipython>=4.0.0->ipywidgets) (4.8.0)\n",
      "Requirement already satisfied: pygments in /home/studio-lab-user/.conda/envs/default/lib/python3.9/site-packages (from ipython>=4.0.0->ipywidgets) (2.13.0)\n",
      "Requirement already satisfied: backcall in /home/studio-lab-user/.conda/envs/default/lib/python3.9/site-packages (from ipython>=4.0.0->ipywidgets) (0.2.0)\n",
      "Requirement already satisfied: pickleshare in /home/studio-lab-user/.conda/envs/default/lib/python3.9/site-packages (from ipython>=4.0.0->ipywidgets) (0.7.5)\n",
      "Requirement already satisfied: prompt-toolkit!=3.0.0,!=3.0.1,<3.1.0,>=2.0.0 in /home/studio-lab-user/.conda/envs/default/lib/python3.9/site-packages (from ipython>=4.0.0->ipywidgets) (3.0.32)\n",
      "Requirement already satisfied: decorator in /home/studio-lab-user/.conda/envs/default/lib/python3.9/site-packages (from ipython>=4.0.0->ipywidgets) (5.1.1)\n",
      "Requirement already satisfied: parso<0.9.0,>=0.8.0 in /home/studio-lab-user/.conda/envs/default/lib/python3.9/site-packages (from jedi>=0.16->ipython>=4.0.0->ipywidgets) (0.8.3)\n",
      "Requirement already satisfied: jupyter-core>=4.9.2 in /home/studio-lab-user/.conda/envs/default/lib/python3.9/site-packages (from jupyter-client<8.0->ipykernel>=4.5.1->ipywidgets) (5.0.0)\n",
      "Requirement already satisfied: entrypoints in /home/studio-lab-user/.conda/envs/default/lib/python3.9/site-packages (from jupyter-client<8.0->ipykernel>=4.5.1->ipywidgets) (0.4)\n",
      "Requirement already satisfied: pyzmq>=23.0 in /home/studio-lab-user/.conda/envs/default/lib/python3.9/site-packages (from jupyter-client<8.0->ipykernel>=4.5.1->ipywidgets) (24.0.1)\n",
      "Requirement already satisfied: nest-asyncio>=1.5.4 in /home/studio-lab-user/.conda/envs/default/lib/python3.9/site-packages (from jupyter-client<8.0->ipykernel>=4.5.1->ipywidgets) (1.5.6)\n",
      "Requirement already satisfied: platformdirs in /home/studio-lab-user/.conda/envs/default/lib/python3.9/site-packages (from jupyter-core>=4.9.2->jupyter-client<8.0->ipykernel>=4.5.1->ipywidgets) (2.5.2)\n",
      "Requirement already satisfied: packaging>=17.0 in /home/studio-lab-user/.conda/envs/default/lib/python3.9/site-packages (from marshmallow<4.0.0,>=3.3.0->dataclasses-json<0.6.0,>=0.5.7->langchain) (21.3)\n",
      "Requirement already satisfied: pyparsing!=3.0.5,>=2.0.2 in /home/studio-lab-user/.conda/envs/default/lib/python3.9/site-packages (from packaging>=17.0->marshmallow<4.0.0,>=3.3.0->dataclasses-json<0.6.0,>=0.5.7->langchain) (3.0.9)\n",
      "Requirement already satisfied: ptyprocess>=0.5 in /home/studio-lab-user/.conda/envs/default/lib/python3.9/site-packages (from pexpect>4.3->ipython>=4.0.0->ipywidgets) (0.7.0)\n",
      "Requirement already satisfied: wcwidth in /home/studio-lab-user/.conda/envs/default/lib/python3.9/site-packages (from prompt-toolkit!=3.0.0,!=3.0.1,<3.1.0,>=2.0.0->ipython>=4.0.0->ipywidgets) (0.2.5)\n",
      "Requirement already satisfied: six>=1.5 in /home/studio-lab-user/.conda/envs/default/lib/python3.9/site-packages (from python-dateutil>=2.5.3->pinecone-client) (1.16.0)\n",
      "Requirement already satisfied: certifi>=2017.4.17 in /home/studio-lab-user/.conda/envs/default/lib/python3.9/site-packages (from requests<3,>=2->langchain) (2022.12.7)\n",
      "Requirement already satisfied: idna<4,>=2.5 in /home/studio-lab-user/.conda/envs/default/lib/python3.9/site-packages (from requests<3,>=2->langchain) (3.4)\n",
      "Requirement already satisfied: greenlet!=0.4.17 in /home/studio-lab-user/.conda/envs/default/lib/python3.9/site-packages (from SQLAlchemy<3,>=1.4->langchain) (2.0.2)\n",
      "Requirement already satisfied: mypy-extensions>=0.3.0 in /home/studio-lab-user/.conda/envs/default/lib/python3.9/site-packages (from typing-inspect>=0.4.0->dataclasses-json<0.6.0,>=0.5.7->langchain) (1.0.0)\n",
      "Requirement already satisfied: notebook>=4.4.1 in /home/studio-lab-user/.conda/envs/default/lib/python3.9/site-packages (from widgetsnbextension~=3.6.0->ipywidgets) (6.5.2)\n",
      "Requirement already satisfied: Send2Trash>=1.8.0 in /home/studio-lab-user/.conda/envs/default/lib/python3.9/site-packages (from notebook>=4.4.1->widgetsnbextension~=3.6.0->ipywidgets) (1.8.0)\n",
      "Requirement already satisfied: terminado>=0.8.3 in /home/studio-lab-user/.conda/envs/default/lib/python3.9/site-packages (from notebook>=4.4.1->widgetsnbextension~=3.6.0->ipywidgets) (0.17.0)\n",
      "Requirement already satisfied: nbconvert>=5 in /home/studio-lab-user/.conda/envs/default/lib/python3.9/site-packages (from notebook>=4.4.1->widgetsnbextension~=3.6.0->ipywidgets) (7.2.5)\n",
      "Requirement already satisfied: jinja2 in /home/studio-lab-user/.conda/envs/default/lib/python3.9/site-packages (from notebook>=4.4.1->widgetsnbextension~=3.6.0->ipywidgets) (3.1.2)\n",
      "Requirement already satisfied: argon2-cffi in /home/studio-lab-user/.conda/envs/default/lib/python3.9/site-packages (from notebook>=4.4.1->widgetsnbextension~=3.6.0->ipywidgets) (21.3.0)\n",
      "Requirement already satisfied: prometheus-client in /home/studio-lab-user/.conda/envs/default/lib/python3.9/site-packages (from notebook>=4.4.1->widgetsnbextension~=3.6.0->ipywidgets) (0.15.0)\n",
      "Requirement already satisfied: nbclassic>=0.4.7 in /home/studio-lab-user/.conda/envs/default/lib/python3.9/site-packages (from notebook>=4.4.1->widgetsnbextension~=3.6.0->ipywidgets) (0.4.8)\n",
      "Requirement already satisfied: nbformat in /home/studio-lab-user/.conda/envs/default/lib/python3.9/site-packages (from notebook>=4.4.1->widgetsnbextension~=3.6.0->ipywidgets) (5.7.0)\n",
      "Requirement already satisfied: notebook-shim>=0.1.0 in /home/studio-lab-user/.conda/envs/default/lib/python3.9/site-packages (from nbclassic>=0.4.7->notebook>=4.4.1->widgetsnbextension~=3.6.0->ipywidgets) (0.2.2)\n",
      "Requirement already satisfied: jupyter-server>=1.8 in /home/studio-lab-user/.conda/envs/default/lib/python3.9/site-packages (from nbclassic>=0.4.7->notebook>=4.4.1->widgetsnbextension~=3.6.0->ipywidgets) (1.23.2)\n",
      "Requirement already satisfied: anyio<4,>=3.1.0 in /home/studio-lab-user/.conda/envs/default/lib/python3.9/site-packages (from jupyter-server>=1.8->nbclassic>=0.4.7->notebook>=4.4.1->widgetsnbextension~=3.6.0->ipywidgets) (3.6.2)\n",
      "Requirement already satisfied: websocket-client in /home/studio-lab-user/.conda/envs/default/lib/python3.9/site-packages (from jupyter-server>=1.8->nbclassic>=0.4.7->notebook>=4.4.1->widgetsnbextension~=3.6.0->ipywidgets) (1.4.2)\n",
      "Requirement already satisfied: sniffio>=1.1 in /home/studio-lab-user/.conda/envs/default/lib/python3.9/site-packages (from anyio<4,>=3.1.0->jupyter-server>=1.8->nbclassic>=0.4.7->notebook>=4.4.1->widgetsnbextension~=3.6.0->ipywidgets) (1.3.0)\n",
      "Requirement already satisfied: jupyterlab-pygments in /home/studio-lab-user/.conda/envs/default/lib/python3.9/site-packages (from nbconvert>=5->notebook>=4.4.1->widgetsnbextension~=3.6.0->ipywidgets) (0.2.2)\n",
      "Requirement already satisfied: importlib-metadata>=3.6 in /home/studio-lab-user/.conda/envs/default/lib/python3.9/site-packages (from nbconvert>=5->notebook>=4.4.1->widgetsnbextension~=3.6.0->ipywidgets) (5.0.0)\n",
      "Requirement already satisfied: pandocfilters>=1.4.1 in /home/studio-lab-user/.conda/envs/default/lib/python3.9/site-packages (from nbconvert>=5->notebook>=4.4.1->widgetsnbextension~=3.6.0->ipywidgets) (1.5.0)\n",
      "Requirement already satisfied: bleach in /home/studio-lab-user/.conda/envs/default/lib/python3.9/site-packages (from nbconvert>=5->notebook>=4.4.1->widgetsnbextension~=3.6.0->ipywidgets) (5.0.1)\n",
      "Requirement already satisfied: tinycss2 in /home/studio-lab-user/.conda/envs/default/lib/python3.9/site-packages (from nbconvert>=5->notebook>=4.4.1->widgetsnbextension~=3.6.0->ipywidgets) (1.2.1)\n",
      "Requirement already satisfied: markupsafe>=2.0 in /home/studio-lab-user/.conda/envs/default/lib/python3.9/site-packages (from nbconvert>=5->notebook>=4.4.1->widgetsnbextension~=3.6.0->ipywidgets) (2.1.1)\n",
      "Requirement already satisfied: nbclient>=0.5.0 in /home/studio-lab-user/.conda/envs/default/lib/python3.9/site-packages (from nbconvert>=5->notebook>=4.4.1->widgetsnbextension~=3.6.0->ipywidgets) (0.7.0)\n",
      "Requirement already satisfied: beautifulsoup4 in /home/studio-lab-user/.conda/envs/default/lib/python3.9/site-packages (from nbconvert>=5->notebook>=4.4.1->widgetsnbextension~=3.6.0->ipywidgets) (4.11.1)\n",
      "Requirement already satisfied: defusedxml in /home/studio-lab-user/.conda/envs/default/lib/python3.9/site-packages (from nbconvert>=5->notebook>=4.4.1->widgetsnbextension~=3.6.0->ipywidgets) (0.7.1)\n",
      "Requirement already satisfied: mistune<3,>=2.0.3 in /home/studio-lab-user/.conda/envs/default/lib/python3.9/site-packages (from nbconvert>=5->notebook>=4.4.1->widgetsnbextension~=3.6.0->ipywidgets) (2.0.4)\n",
      "Requirement already satisfied: zipp>=0.5 in /home/studio-lab-user/.conda/envs/default/lib/python3.9/site-packages (from importlib-metadata>=3.6->nbconvert>=5->notebook>=4.4.1->widgetsnbextension~=3.6.0->ipywidgets) (3.10.0)\n",
      "Requirement already satisfied: fastjsonschema in /home/studio-lab-user/.conda/envs/default/lib/python3.9/site-packages (from nbformat->notebook>=4.4.1->widgetsnbextension~=3.6.0->ipywidgets) (2.16.2)\n",
      "Requirement already satisfied: jsonschema>=2.6 in /home/studio-lab-user/.conda/envs/default/lib/python3.9/site-packages (from nbformat->notebook>=4.4.1->widgetsnbextension~=3.6.0->ipywidgets) (4.17.0)\n",
      "Requirement already satisfied: pyrsistent!=0.17.0,!=0.17.1,!=0.17.2,>=0.14.0 in /home/studio-lab-user/.conda/envs/default/lib/python3.9/site-packages (from jsonschema>=2.6->nbformat->notebook>=4.4.1->widgetsnbextension~=3.6.0->ipywidgets) (0.19.2)\n",
      "Requirement already satisfied: deprecated~=1.2.0 in /home/studio-lab-user/.conda/envs/default/lib/python3.9/site-packages (from argilla->unstructured) (1.2.14)\n",
      "Requirement already satisfied: httpx<0.24,>=0.15 in /home/studio-lab-user/.conda/envs/default/lib/python3.9/site-packages (from argilla->unstructured) (0.23.3)\n",
      "Requirement already satisfied: monotonic in /home/studio-lab-user/.conda/envs/default/lib/python3.9/site-packages (from argilla->unstructured) (1.6)\n",
      "Requirement already satisfied: wrapt<1.15,>=1.13 in /home/studio-lab-user/.conda/envs/default/lib/python3.9/site-packages (from argilla->unstructured) (1.14.1)\n",
      "Requirement already satisfied: typer<1.0.0,>=0.6.0 in /home/studio-lab-user/.conda/envs/default/lib/python3.9/site-packages (from argilla->unstructured) (0.9.0)\n",
      "Requirement already satisfied: backoff in /home/studio-lab-user/.conda/envs/default/lib/python3.9/site-packages (from argilla->unstructured) (2.2.1)\n",
      "Requirement already satisfied: rich<=13.0.1 in /home/studio-lab-user/.conda/envs/default/lib/python3.9/site-packages (from argilla->unstructured) (13.0.1)\n",
      "Requirement already satisfied: rfc3986[idna2008]<2,>=1.3 in /home/studio-lab-user/.conda/envs/default/lib/python3.9/site-packages (from httpx<0.24,>=0.15->argilla->unstructured) (1.5.0)\n",
      "Requirement already satisfied: httpcore<0.17.0,>=0.15.0 in /home/studio-lab-user/.conda/envs/default/lib/python3.9/site-packages (from httpx<0.24,>=0.15->argilla->unstructured) (0.16.3)\n",
      "Requirement already satisfied: h11<0.15,>=0.13 in /home/studio-lab-user/.conda/envs/default/lib/python3.9/site-packages (from httpcore<0.17.0,>=0.15.0->httpx<0.24,>=0.15->argilla->unstructured) (0.14.0)\n",
      "Requirement already satisfied: pytz>=2020.1 in /home/studio-lab-user/.conda/envs/default/lib/python3.9/site-packages (from pandas->unstructured) (2023.3)\n",
      "Requirement already satisfied: commonmark<0.10.0,>=0.9.0 in /home/studio-lab-user/.conda/envs/default/lib/python3.9/site-packages (from rich<=13.0.1->argilla->unstructured) (0.9.1)\n",
      "Requirement already satisfied: click<9.0.0,>=7.1.1 in /home/studio-lab-user/.conda/envs/default/lib/python3.9/site-packages (from typer<1.0.0,>=0.6.0->argilla->unstructured) (8.1.3)\n",
      "Requirement already satisfied: argon2-cffi-bindings in /home/studio-lab-user/.conda/envs/default/lib/python3.9/site-packages (from argon2-cffi->notebook>=4.4.1->widgetsnbextension~=3.6.0->ipywidgets) (21.2.0)\n",
      "Requirement already satisfied: cffi>=1.0.1 in /home/studio-lab-user/.conda/envs/default/lib/python3.9/site-packages (from argon2-cffi-bindings->argon2-cffi->notebook>=4.4.1->widgetsnbextension~=3.6.0->ipywidgets) (1.15.1)\n",
      "Requirement already satisfied: pycparser in /home/studio-lab-user/.conda/envs/default/lib/python3.9/site-packages (from cffi>=1.0.1->argon2-cffi-bindings->argon2-cffi->notebook>=4.4.1->widgetsnbextension~=3.6.0->ipywidgets) (2.21)\n",
      "Requirement already satisfied: soupsieve>1.2 in /home/studio-lab-user/.conda/envs/default/lib/python3.9/site-packages (from beautifulsoup4->nbconvert>=5->notebook>=4.4.1->widgetsnbextension~=3.6.0->ipywidgets) (2.3.2.post1)\n",
      "Requirement already satisfied: webencodings in /home/studio-lab-user/.conda/envs/default/lib/python3.9/site-packages (from bleach->nbconvert>=5->notebook>=4.4.1->widgetsnbextension~=3.6.0->ipywidgets) (0.5.1)\n",
      "Requirement already satisfied: olefile>=0.46 in /home/studio-lab-user/.conda/envs/default/lib/python3.9/site-packages (from msg-parser->unstructured) (0.46)\n",
      "Requirement already satisfied: joblib in /home/studio-lab-user/.conda/envs/default/lib/python3.9/site-packages (from nltk->unstructured) (1.2.0)\n",
      "Requirement already satisfied: et-xmlfile in /home/studio-lab-user/.conda/envs/default/lib/python3.9/site-packages (from openpyxl->unstructured) (1.1.0)\n",
      "Requirement already satisfied: cryptography>=36.0.0 in /home/studio-lab-user/.conda/envs/default/lib/python3.9/site-packages (from pdfminer.six->unstructured) (41.0.1)\n",
      "Requirement already satisfied: XlsxWriter>=0.5.7 in /home/studio-lab-user/.conda/envs/default/lib/python3.9/site-packages (from python-pptx->unstructured) (3.1.2)\n",
      "Note: you may need to restart the kernel to use updated packages.\n"
     ]
    }
   ],
   "source": [
    "%pip install langchain openai unstructured pdf2image pinecone-client tiktoken pypandoc ipywidgets"
   ]
  },
  {
   "cell_type": "markdown",
   "id": "7745e3a1-98ce-491a-b53e-bd04d111c489",
   "metadata": {},
   "source": [
    "## Imports and initial setup"
   ]
  },
  {
   "cell_type": "code",
   "execution_count": 86,
   "id": "c7520db6-d800-4d1a-a623-98ee399891d1",
   "metadata": {
    "tags": []
   },
   "outputs": [],
   "source": [
    "import os\n",
    "from dotenv import load_dotenv, find_dotenv\n",
    "\n",
    "# Langchain and openai\n",
    "from langchain.llms import OpenAI\n",
    "from langchain.prompts import PromptTemplate\n",
    "from langchain.chains import LLMChain\n",
    "from langchain.text_splitter import RecursiveCharacterTextSplitter\n",
    "from langchain.document_loaders import DirectoryLoader"
   ]
  },
  {
   "cell_type": "code",
   "execution_count": 87,
   "id": "58819613-8604-4f74-803e-6087a3542535",
   "metadata": {
    "tags": []
   },
   "outputs": [
    {
     "data": {
      "text/plain": [
       "True"
      ]
     },
     "execution_count": 87,
     "metadata": {},
     "output_type": "execute_result"
    }
   ],
   "source": [
    "# Find and load the .env file\n",
    "dotenv_path = find_dotenv()\n",
    "load_dotenv(dotenv_path)"
   ]
  },
  {
   "cell_type": "markdown",
   "id": "59ee9097-b696-4a94-a2d7-d403dc4cb552",
   "metadata": {},
   "source": [
    "## Load data"
   ]
  },
  {
   "cell_type": "code",
   "execution_count": 98,
   "id": "a9dabc93-750c-4095-a280-567ec66322cd",
   "metadata": {},
   "outputs": [],
   "source": [
    "# Convert from rst to md\n",
    "import os\n",
    "import pypandoc\n",
    "\n",
    "convertToMarkdown = False\n",
    "\n",
    "\n",
    "if convertToMarkdown:\n",
    "    docs_path = 'feide-docs-master/'\n",
    "    # Iterate through all files in the directory\n",
    "    for root, dirs, files in os.walk(docs_path):\n",
    "        for file in files:\n",
    "            if file.endswith('.rst'):\n",
    "                # Full path to the source .rst file\n",
    "                source_file_path = os.path.join(root, file)\n",
    "\n",
    "                # Full path to the output .md file\n",
    "                # os.path.splitext(file)[0] gives the file name without the extension\n",
    "                output_file_path = os.path.join(root, os.path.splitext(file)[0] + '.md')\n",
    "\n",
    "                # Convert the file\n",
    "                output = pypandoc.convert_file(source_file_path, 'markdown', format='rst')\n",
    "\n",
    "                # Write the markdown output to a .md file\n",
    "                with open(output_file_path, 'w') as output_file:\n",
    "                    output_file.write(output)\n"
   ]
  },
  {
   "cell_type": "code",
   "execution_count": 89,
   "id": "fcd372a4-2697-42ee-abf9-b6d9edbd7059",
   "metadata": {
    "tags": []
   },
   "outputs": [
    {
     "name": "stderr",
     "output_type": "stream",
     "text": [
      "100%|██████████| 196/196 [00:13<00:00, 14.65it/s]"
     ]
    },
    {
     "name": "stdout",
     "output_type": "stream",
     "text": [
      "You have 196 document(s) in your data\n",
      "There are 540 characters in your document\n"
     ]
    },
    {
     "name": "stderr",
     "output_type": "stream",
     "text": [
      "\n"
     ]
    }
   ],
   "source": [
    "loader = DirectoryLoader('feide-docs-master/', glob=\"**/*.md\", show_progress=True, use_multithreading=True)\n",
    "docs = loader.load()\n",
    "\n",
    "# Note: If you're using PyPDFLoader then it will split by page for you already\n",
    "print (f'You have {len(docs)} document(s) in your data')\n",
    "print (f'There are {len(docs[30].page_content)} characters in your document')"
   ]
  },
  {
   "cell_type": "code",
   "execution_count": 90,
   "id": "4a04a434-6ab8-42bf-9a5e-a9f148ae0e2d",
   "metadata": {},
   "outputs": [],
   "source": [
    "# Note: If you're using PyPDFLoader then we'll be splitting for the 2nd time.\n",
    "# This is optional, test out on your own data.\n",
    "\n",
    "text_splitter = RecursiveCharacterTextSplitter(chunk_size=2000, chunk_overlap=0)\n",
    "texts = text_splitter.split_documents(docs)"
   ]
  },
  {
   "cell_type": "code",
   "execution_count": 91,
   "id": "ef8d0419-5997-49df-8af6-628a8d3dff91",
   "metadata": {},
   "outputs": [
    {
     "name": "stdout",
     "output_type": "stream",
     "text": [
      "Now you have 426 documents\n"
     ]
    }
   ],
   "source": [
    "print (f'Now you have {len(texts)} documents')"
   ]
  },
  {
   "cell_type": "markdown",
   "id": "df7e0bd9-74e9-4e0c-adc1-5cf37598e5a9",
   "metadata": {},
   "source": [
    "## Create embeddings of your documents to get ready for semantic search"
   ]
  },
  {
   "cell_type": "code",
   "execution_count": 92,
   "id": "b95fa1c3-f774-44ca-aedc-866bf1eae8a7",
   "metadata": {},
   "outputs": [],
   "source": [
    "from langchain.vectorstores import Chroma, Pinecone\n",
    "from langchain.embeddings.openai import OpenAIEmbeddings\n",
    "import pinecone"
   ]
  },
  {
   "cell_type": "code",
   "execution_count": 93,
   "id": "7dd25169-00b4-422c-9ead-ecab49272842",
   "metadata": {},
   "outputs": [],
   "source": [
    "embeddings = OpenAIEmbeddings(openai_api_key=os.environ.get(\"OPENAI_APIKEY\"))"
   ]
  },
  {
   "cell_type": "code",
   "execution_count": 94,
   "id": "95df6d5e-18e5-4105-a151-5ea875824e11",
   "metadata": {},
   "outputs": [],
   "source": [
    "# initialize pinecone\n",
    "pinecone.init(\n",
    "    api_key=os.environ.get(\"PINECONE_API_KEY\"),  # find at app.pinecone.io\n",
    "    environment=os.environ.get(\"PINECONE_API_ENV\")  # next to api key in console\n",
    ")\n",
    "index_name = \"platon2\" # put in the name of your pinecone index here"
   ]
  },
  {
   "cell_type": "code",
   "execution_count": 95,
   "id": "e6ed5287-ff45-46c1-9af6-35f8db0cf027",
   "metadata": {},
   "outputs": [],
   "source": [
    "reIndex = False\n",
    "\n",
    "if reIndex:\n",
    "    docsearch = Pinecone.from_texts([t.page_content for t in text_chunks], embeddings, metadatas=metadata_list, index_name=index_name)\n",
    "else:\n",
    "    docsearch = Pinecone.from_existing_index(index_name=index_name, embedding=embeddings)"
   ]
  },
  {
   "cell_type": "code",
   "execution_count": 96,
   "id": "f7063003-4b9c-404f-91db-86873721316b",
   "metadata": {},
   "outputs": [],
   "source": [
    "def queryDoc(input):\n",
    "    pages = docsearch.similarity_search(input)\n",
    "\n",
    "    # Here's an example of the first document that was returned\n",
    "    print(pages[0].page_content)\n",
    "    print(pages)"
   ]
  },
  {
   "cell_type": "code",
   "execution_count": 97,
   "id": "d48e8592-0102-499d-b74d-c6c376fcee59",
   "metadata": {
    "tags": []
   },
   "outputs": [
    {
     "name": "stdout",
     "output_type": "stream",
     "text": [
      "OpenID Connect details </reference/oauth_oidc/openid_connect_details>{.interpreted-text\n",
      "role=\"doc\"}\n",
      "[Document(page_content='OpenID Connect details </reference/oauth_oidc/openid_connect_details>{.interpreted-text\\nrole=\"doc\"}', metadata={}), Document(page_content='OpenID Connect and OAuth 2.0\\n\\n::: {.toctree maxdepth=\"1\"}\\nuserids openid_connect_details legacy_userinfo\\n:::', metadata={}), Document(page_content='OpenID Connect details\\n\\nOpenID Connect (OIDC) is a simple standardized identity (authentication)\\nlayer on top of OAuth 2.0.\\n\\nAfter a successful login, the user agent is in possession of an access\\ntoken and an ID token <id_token>{.interpreted-text role=\"ref\"}. The\\naccess token looks the same as for plain OAuth2. The ID token is a\\nsigned JSON Web Token with info about\\nthe user. The information is also available from the userinfo endpoint\\ndescribed in the reference doc:\\n\\nUserinfo Endpoint </reference/apis/userinfo>{.interpreted-text\\nrole=\"doc\"}.\\n\\nDiscovery and configuration\\n\\nAll you need to know in order to configure your OpenID Connect client to\\nthe Feide platform is available through the discovery endpoint:\\n\\nhttps://auth.dataporten.no/.well-known/openid-configuration\\n\\nClient registration\\n\\nIn order to access the Feide APIs, you need to register your\\napplication, and obtain the OIDC/OAuth credentials for your application.\\n\\nThe customer portal allows Feide administrators to register and manage\\napplications.\\n\\nServices that are registered in the customer portal are synchronized to\\nthe dashboard dataporten so you don\\'t need to register a new service in\\ndataporten dashboard to register or get access to API.\\n\\nIf you are registered as an administrator in the Feide customer portal,\\nyou will be able to login to the dataporten\\ndashboard with the same credentials. For users\\nwithout a Feide account, choose Feide Guest users when login into\\ndataporten dashboard.\\n\\nWhen registering a client, you need to know the redirect URI endpoint of\\nyour application. This is under the configuration tab when editing the\\nservice.\\n\\nScreenshot of adding Redirect URI to a configuration\\n\\nScopes, claims and attribute groups {#scopes_claims_attribute_groups}\\n\\nIn the Feide customer portal, administrators allow or deny access to\\ninformation in attribute groups. These mean the same for SAML and\\nOpenID Connect.\\n\\nDevelopers of OpenID Connect applications will encounter two additional\\nconcepts:\\n\\nscopes', metadata={}), Document(page_content='OpenID Connect/OAuth technical details\\n\\nIn these pages you will find detailed technical documentation about how\\nto use our OpenID Connect and OAuth implementation.\\n\\n::: {.toctree maxdepth=\"1\"}\\nfeide_obtaining_tokens oidc_authentication mobile_applications\\nclient_credentials_flow\\n:::', metadata={})]\n"
     ]
    }
   ],
   "source": [
    "queryDoc(\"OpenID Connect secret?\")"
   ]
  },
  {
   "cell_type": "markdown",
   "id": "209ae3e8-7a7a-4e03-b08c-01cad24a4e1f",
   "metadata": {},
   "source": [
    "## Query Platon documentation"
   ]
  },
  {
   "cell_type": "code",
   "execution_count": 99,
   "id": "ad543786-dba4-4320-8af7-970a880b0fe2",
   "metadata": {},
   "outputs": [],
   "source": [
    "llm = OpenAI(openai_api_key=os.environ.get(\"OPENAI_APIKEY\"))"
   ]
  },
  {
   "cell_type": "code",
   "execution_count": 100,
   "id": "c9bfc5de-f638-4de2-aa75-65ad3d117e29",
   "metadata": {},
   "outputs": [],
   "source": [
    "from langchain.llms import OpenAI\n",
    "from langchain.chains.question_answering import load_qa_chain"
   ]
  },
  {
   "cell_type": "code",
   "execution_count": 101,
   "id": "70c2f56f-98d9-49a7-99df-7d3390e5a561",
   "metadata": {},
   "outputs": [],
   "source": [
    "chain = load_qa_chain(llm, chain_type=\"stuff\")"
   ]
  },
  {
   "cell_type": "code",
   "execution_count": 102,
   "id": "bcc03b9c-83eb-4e8a-99a0-3e7cb867f6d4",
   "metadata": {},
   "outputs": [],
   "source": [
    "def query(query):\n",
    "    doc_context = docsearch.similarity_search(query)\n",
    "    return chain.run(input_documents=doc_context, question=query)"
   ]
  },
  {
   "cell_type": "code",
   "execution_count": 103,
   "id": "9930825a-9ad1-4442-a6d3-985617767ccc",
   "metadata": {},
   "outputs": [
    {
     "data": {
      "text/plain": [
       "' To set up an API where Feide is used to manage access, first fill out the application form to become a service provider in Feide. Then, Feide administrators must register accounts at the Feide OpenIdP. Once those steps are completed, send an email to kontakt@sikt.no with the usernames of the Feide administrators. After that, you can manage access to services through Feide, by enabling other login providers in addition to Feide, and choosing which host organizations or individual schools will have access to activate the service in the customer portal under the \"Host organization\" tab when editing the service.'"
      ]
     },
     "execution_count": 103,
     "metadata": {},
     "output_type": "execute_result"
    }
   ],
   "source": [
    "r = query(\"Jeg ønsker å sette opp et API hvor Feide brukes for styre tilgangen, hvordan går jeg frem?\")\n",
    "r"
   ]
  },
  {
   "cell_type": "code",
   "execution_count": 104,
   "id": "319df6fd-458e-4a36-924e-9fb163e279d3",
   "metadata": {},
   "outputs": [
    {
     "data": {
      "application/vnd.jupyter.widget-view+json": {
       "model_id": "8d4ab0fb823f46b4b18b201286fef636",
       "version_major": 2,
       "version_minor": 0
      },
      "text/plain": [
       "interactive(children=(Textarea(value='Hvordan gjør man …… i Feide?', description='Spørsmål:', layout=Layout(wi…"
      ]
     },
     "metadata": {},
     "output_type": "display_data"
    },
    {
     "data": {
      "text/plain": [
       "<function __main__.chatbot_interactive(user_input)>"
      ]
     },
     "execution_count": 104,
     "metadata": {},
     "output_type": "execute_result"
    }
   ],
   "source": [
    "from ipywidgets import interact, interactive, fixed, interact_manual\n",
    "import ipywidgets as widgets\n",
    "\n",
    "def chatbot_interactive(user_input):\n",
    "    response = query(user_input)\n",
    "    #response = user_input\n",
    "    out = widgets.HTML(\n",
    "        value='<div style=\"padding: 2em; margin: 3em 1em; border: 1px solid #aaa;\">' + response + '</textarea>'\n",
    "    )\n",
    "    return out\n",
    "\n",
    "interact_manual(chatbot_interactive, \n",
    "                user_input=widgets.Textarea(value='Hvordan gjør man …… i Feide?', rows=5, description='Spørsmål:', \n",
    "                                            layout=widgets.Layout(width='90%')),\n",
    "                manual_name=\"YAY\")"
   ]
  }
 ],
 "metadata": {
  "kernelspec": {
   "display_name": "default:Python",
   "language": "python",
   "name": "conda-env-default-py"
  },
  "language_info": {
   "codemirror_mode": {
    "name": "ipython",
    "version": 3
   },
   "file_extension": ".py",
   "mimetype": "text/x-python",
   "name": "python",
   "nbconvert_exporter": "python",
   "pygments_lexer": "ipython3",
   "version": "3.9.13"
  }
 },
 "nbformat": 4,
 "nbformat_minor": 5
}
